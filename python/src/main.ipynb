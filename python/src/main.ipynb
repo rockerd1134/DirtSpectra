{
 "cells": [
  {
   "cell_type": "code",
   "execution_count": 2,
   "id": "6dd91d8c-be40-4c4f-b55a-2aa13f2708f1",
   "metadata": {},
   "outputs": [],
   "source": [
    "import git\n",
    "import numpy as np\n",
    "import pandas as pd\n",
    "\n",
    "from sklearn.model_selection import train_test_split\n",
    "from sklearn.model_selection import KFold\n",
    "from sklearn.model_selection import GridSearchCV\n",
    "from sklearn.preprocessing import StandardScaler\n",
    "from sklearn.linear_model import ElasticNet\n",
    "from sklearn.pipeline import Pipeline\n",
    "from sklearn.metrics import mean_squared_error\n",
    "from sklearn.metrics import root_mean_squared_error\n",
    "from sklearn_genetic import GAFeatureSelectionCV\n",
    "from sklearn_genetic.space import Categorical, Integer, Continuous"
   ]
  },
  {
   "cell_type": "code",
   "execution_count": 3,
   "id": "600effed-2189-4cfa-84f8-1a317803aa01",
   "metadata": {},
   "outputs": [],
   "source": [
    "# Testing whether using data_consol.csv helps anything. If so, probably indicates an error in reading in or joining the separate CSVs before\n",
    "repo = git.Repo('.', search_parent_directories = True)\n",
    "root = repo.working_tree_dir\n",
    "\n",
    "data_consol = pd.read_csv(root + '//data/data_consol.csv')"
   ]
  },
  {
   "cell_type": "code",
   "execution_count": 4,
   "id": "6d52a769-326d-4c99-ae7f-eed98a407bdc",
   "metadata": {},
   "outputs": [],
   "source": [
    "X = data_consol.filter(regex=\"^[0-9]+$\")\n",
    "bact = data_consol['pcr_bact_log']\n",
    "\n",
    "# Note: do NOT scale X and y before splitting, since that is a data leak. Instead, use the pipeline to scale both Xs, and separately scale the y for custom scoring like RMSE.\n",
    "X_train, X_test, bact_train_unscaled, bact_test_unscaled = train_test_split(X.to_numpy(), bact.to_numpy(), train_size=0.8, random_state=0)\n",
    "\n",
    "# Reshaping necessary for the y scaling step\n",
    "bact_train_unscaled = bact_train_unscaled.reshape(-1,1)\n",
    "bact_test_unscaled = bact_test_unscaled.reshape(-1,1)\n",
    "\n",
    "bact_scaler = StandardScaler()\n",
    "bact_train = bact_scaler.fit_transform(bact_train_unscaled)\n",
    "bact_test = bact_scaler.transform(bact_test_unscaled)\n",
    "\n",
    "# 10-fold CV; random state 0\n",
    "cv_10_0 = KFold(n_splits=10, shuffle=True, random_state=0)"
   ]
  },
  {
   "cell_type": "code",
   "execution_count": 5,
   "id": "f496c047",
   "metadata": {},
   "outputs": [],
   "source": [
    "model = ElasticNet(fit_intercept=False, warm_start=True, random_state=0, selection='random', max_iter=4000)"
   ]
  },
  {
   "cell_type": "markdown",
   "id": "af80f2e2",
   "metadata": {},
   "source": [
    "\n",
    "Now let's set up the feature selector object"
   ]
  },
  {
   "cell_type": "code",
   "execution_count": 6,
   "id": "ffdff91e",
   "metadata": {},
   "outputs": [],
   "source": [
    "# Define the genetic algorithm feature selector\n",
    "selector = GAFeatureSelectionCV(\n",
    "    estimator=model,\n",
    "    cv=10,  # Cross-validation folds\n",
    "    scoring=\"neg_root_mean_squared_error\",  # Fitness function (maximize accuracy)\n",
    "    population_size=20,  # Number of individuals in the population\n",
    "    max_features=300,\n",
    "    generations=50,  # Number of generations\n",
    "    n_jobs=-1,  # Use all available CPU cores\n",
    "    verbose=False,  # Print progress\n",
    ")"
   ]
  },
  {
   "cell_type": "code",
   "execution_count": null,
   "id": "d924b9cd-f5f9-4d24-9c73-0e43a3a21b0e",
   "metadata": {
    "vscode": {
     "languageId": "javascript"
    }
   },
   "outputs": [],
   "source": [
    "pipe = Pipeline(\n",
    "    [\n",
    "        (\"scaler\", StandardScaler()),\n",
    "        (\"features\", selector ),\n",
    "        (\"elastic_net\",  model )\n",
    "    ], \n",
    "    memory = root+'\\\\cache',\n",
    "    verbose=True\n",
    ")\n",
    "\n",
    "REGULARIZATION = np.logspace(-5, 0, 8)\n",
    "MIXTURE = np.linspace(0.001, 1, 8)\n",
    "PARAM_GRID = [\n",
    "    {\n",
    "        \"elastic_net__alpha\": REGULARIZATION,\n",
    "        \"elastic_net__l1_ratio\": MIXTURE\n",
    "    }\n",
    "]\n",
    "\n",
    "grid = GridSearchCV(estimator=pipe, param_grid=PARAM_GRID, scoring='neg_root_mean_squared_error', n_jobs=-1, cv=cv_10_0, error_score='raise')\n",
    "grid.fit(X_train, bact_train)"
   ]
  },
  {
   "cell_type": "code",
   "execution_count": 8,
   "id": "781c9d81",
   "metadata": {},
   "outputs": [
    {
     "name": "stdout",
     "output_type": "stream",
     "text": [
      "Training RMSE: 0.559\n",
      "Testing RMSE: 0.777\n",
      "Testing RMSE, unscaled: 0.343\n"
     ]
    }
   ],
   "source": [
    "print('Training RMSE:', round(abs(grid.score(X_train, bact_train)), 3))\n",
    "print('Testing RMSE:', round(abs(grid.score(X_test, bact_test)), 3))\n",
    "\n",
    "# Inverse-transforming the preds to get back to original scale.\n",
    "# Used for comparison with R results\n",
    "preds_unscaled = bact_scaler.inverse_transform(grid.predict(X_test).reshape(-1,1))\n",
    "print('Testing RMSE, unscaled:', round(root_mean_squared_error(preds_unscaled, bact_test_unscaled), 3))"
   ]
  },
  {
   "cell_type": "code",
   "execution_count": 9,
   "id": "94c5b2a5-05bf-4486-9270-0bc2b0534a07",
   "metadata": {},
   "outputs": [
    {
     "name": "stdout",
     "output_type": "stream",
     "text": [
      "Training RMSE: 0.559\n",
      "Testing RMSE: 0.777\n",
      "Testing RMSE, unscaled: 0.343\n"
     ]
    }
   ],
   "source": [
    "print('Training RMSE:', round(abs(grid.score(X_train, bact_train)), 3))\n",
    "print('Testing RMSE:', round(abs(grid.score(X_test, bact_test)), 3))\n",
    "\n",
    "# Inverse-transforming the preds to get back to original scale.\n",
    "# Used for comparison with R results\n",
    "preds_unscaled = bact_scaler.inverse_transform(grid.predict(X_test).reshape(-1,1))\n",
    "print('Testing RMSE, unscaled:', round(root_mean_squared_error(preds_unscaled, bact_test_unscaled), 3))"
   ]
  },
  {
   "cell_type": "code",
   "execution_count": 10,
   "id": "a461e522",
   "metadata": {},
   "outputs": [
    {
     "name": "stdout",
     "output_type": "stream",
     "text": [
      "Selected Features Count: 258\n",
      "Selected Features: ['Feature_2', 'Feature_7', 'Feature_13', 'Feature_47', 'Feature_53', 'Feature_57', 'Feature_69', 'Feature_75', 'Feature_89', 'Feature_100', 'Feature_104', 'Feature_119', 'Feature_126', 'Feature_142', 'Feature_156', 'Feature_160', 'Feature_176', 'Feature_177', 'Feature_178', 'Feature_181', 'Feature_185', 'Feature_201', 'Feature_206', 'Feature_217', 'Feature_234', 'Feature_239', 'Feature_244', 'Feature_251', 'Feature_257', 'Feature_270', 'Feature_283', 'Feature_296', 'Feature_301', 'Feature_322', 'Feature_329', 'Feature_334', 'Feature_335', 'Feature_342', 'Feature_352', 'Feature_364', 'Feature_378', 'Feature_383', 'Feature_395', 'Feature_400', 'Feature_404', 'Feature_412', 'Feature_415', 'Feature_421', 'Feature_422', 'Feature_437', 'Feature_450', 'Feature_453', 'Feature_455', 'Feature_459', 'Feature_477', 'Feature_478', 'Feature_485', 'Feature_512', 'Feature_513', 'Feature_518', 'Feature_529', 'Feature_542', 'Feature_547', 'Feature_582', 'Feature_592', 'Feature_593', 'Feature_603', 'Feature_605', 'Feature_613', 'Feature_615', 'Feature_629', 'Feature_631', 'Feature_633', 'Feature_651', 'Feature_653', 'Feature_662', 'Feature_665', 'Feature_668', 'Feature_671', 'Feature_673', 'Feature_689', 'Feature_702', 'Feature_710', 'Feature_718', 'Feature_734', 'Feature_736', 'Feature_746', 'Feature_757', 'Feature_777', 'Feature_779', 'Feature_783', 'Feature_786', 'Feature_788', 'Feature_802', 'Feature_804', 'Feature_807', 'Feature_810', 'Feature_814', 'Feature_836', 'Feature_844', 'Feature_851', 'Feature_863', 'Feature_870', 'Feature_875', 'Feature_892', 'Feature_905', 'Feature_907', 'Feature_912', 'Feature_931', 'Feature_943', 'Feature_947', 'Feature_948', 'Feature_955', 'Feature_969', 'Feature_972', 'Feature_973', 'Feature_976', 'Feature_977', 'Feature_989', 'Feature_1034', 'Feature_1048', 'Feature_1057', 'Feature_1065', 'Feature_1072', 'Feature_1078', 'Feature_1085', 'Feature_1088', 'Feature_1104', 'Feature_1113', 'Feature_1125', 'Feature_1133', 'Feature_1135', 'Feature_1136', 'Feature_1168', 'Feature_1180', 'Feature_1181', 'Feature_1195', 'Feature_1198', 'Feature_1199', 'Feature_1228', 'Feature_1237', 'Feature_1240', 'Feature_1260', 'Feature_1277', 'Feature_1284', 'Feature_1294', 'Feature_1295', 'Feature_1327', 'Feature_1339', 'Feature_1340', 'Feature_1343', 'Feature_1352', 'Feature_1356', 'Feature_1363', 'Feature_1367', 'Feature_1379', 'Feature_1385', 'Feature_1387', 'Feature_1397', 'Feature_1400', 'Feature_1401', 'Feature_1406', 'Feature_1408', 'Feature_1414', 'Feature_1431', 'Feature_1448', 'Feature_1461', 'Feature_1466', 'Feature_1470', 'Feature_1481', 'Feature_1520', 'Feature_1521', 'Feature_1530', 'Feature_1538', 'Feature_1547', 'Feature_1555', 'Feature_1563', 'Feature_1566', 'Feature_1569', 'Feature_1571', 'Feature_1577', 'Feature_1585', 'Feature_1586', 'Feature_1595', 'Feature_1598', 'Feature_1604', 'Feature_1606', 'Feature_1611', 'Feature_1633', 'Feature_1645', 'Feature_1668', 'Feature_1671', 'Feature_1675', 'Feature_1676', 'Feature_1687', 'Feature_1691', 'Feature_1693', 'Feature_1697', 'Feature_1698', 'Feature_1699', 'Feature_1703', 'Feature_1719', 'Feature_1734', 'Feature_1745', 'Feature_1765', 'Feature_1770', 'Feature_1777', 'Feature_1780', 'Feature_1792', 'Feature_1799', 'Feature_1804', 'Feature_1835', 'Feature_1836', 'Feature_1845', 'Feature_1847', 'Feature_1860', 'Feature_1883', 'Feature_1885', 'Feature_1886', 'Feature_1890', 'Feature_1899', 'Feature_1905', 'Feature_1914', 'Feature_1917', 'Feature_1918', 'Feature_1924', 'Feature_1932', 'Feature_1942', 'Feature_1944', 'Feature_1947', 'Feature_1951', 'Feature_1953', 'Feature_1956', 'Feature_1957', 'Feature_1971', 'Feature_1982', 'Feature_2000', 'Feature_2013', 'Feature_2018', 'Feature_2025', 'Feature_2032', 'Feature_2047', 'Feature_2061', 'Feature_2065', 'Feature_2071', 'Feature_2075', 'Feature_2076', 'Feature_2077', 'Feature_2080', 'Feature_2086', 'Feature_2087', 'Feature_2088', 'Feature_2099', 'Feature_2105', 'Feature_2106', 'Feature_2121', 'Feature_2126', 'Feature_2142']\n"
     ]
    }
   ],
   "source": [
    "best_pipe = grid.best_estimator_\n",
    "selector = best_pipe.named_steps['features']\n",
    "\n",
    "# Check if the selector has the 'best_features_' attribute\n",
    "if hasattr(selector, \"best_features_\"):\n",
    "    # Get the mask of selected features (True for selected, False for not selected)\n",
    "    selected_features_mask = selector.best_features_\n",
    "\n",
    "    # Get the feature names (if available)\n",
    "    feature_names = X_train.columns if hasattr(X_train, \"columns\") else [f\"Feature_{i}\" for i in range(X_train.shape[1])]\n",
    "    selected_feature_names = [name for name, selected in zip(feature_names, selected_features_mask) if selected]\n",
    "\n",
    "    print(f\"Selected Features Count: {len(selected_feature_names)}\")\n",
    "    print(\"Selected Features:\", selected_feature_names)\n",
    "else:\n",
    "    print(\"The attribute 'best_features_' is not available.\")\n"
   ]
  },
  {
   "cell_type": "markdown",
   "id": "7e18c2d8-000c-411a-838a-59f83c3ca5fa",
   "metadata": {},
   "source": [
    "*Testing models' results:*\n",
    "\n",
    "For elastic_net random_state=0, training RMSE is 0.587, and testing RMSE is 0.766.\n",
    "\n",
    "After removing the scaler, training RMSE is 0.491, and testing RMSE is 0.629\n",
    "\n",
    "No scaler; optimizing R2: training RMSE is 0.236, testing RMSE is 0.935\n",
    "\n",
    "No scaler; 10-fold CV: training RMSE 0.491, testing RMSE 0.629\n",
    "\n",
    "With scaler; 10-fold CV; unscaling preds: training RMSE 0.587, testing RMSE 0.338 (on par with R results)\n",
    "\n",
    "*Final model's results:*\n",
    "\n",
    "Training RMSE: 0.587\n",
    "\n",
    "Testing RMSE: 0.766\n",
    "\n",
    "Testing RMSE, unscaled: 0.338 (on par with R results)"
   ]
  }
 ],
 "metadata": {
  "kernelspec": {
   "display_name": "venv",
   "language": "python",
   "name": "python3"
  },
  "language_info": {
   "codemirror_mode": {
    "name": "ipython",
    "version": 3
   },
   "file_extension": ".py",
   "mimetype": "text/x-python",
   "name": "python",
   "nbconvert_exporter": "python",
   "pygments_lexer": "ipython3",
   "version": "3.10.12"
  }
 },
 "nbformat": 4,
 "nbformat_minor": 5
}
