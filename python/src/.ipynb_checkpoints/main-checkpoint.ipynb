{
 "cells": [
  {
   "cell_type": "markdown",
   "id": "4e1c8e74-659c-4624-926c-12fcc27895b2",
   "metadata": {},
   "source": [
    "Reading in the data"
   ]
  },
  {
   "cell_type": "code",
   "execution_count": 21,
   "id": "6dd91d8c-be40-4c4f-b55a-2aa13f2708f1",
   "metadata": {},
   "outputs": [],
   "source": [
    "import git\n",
    "import numpy as np\n",
    "import pandas as pd\n",
    "# Add more imports in this block later. There will need to be several \"from sklearn.whatever import something\" lines"
   ]
  },
  {
   "cell_type": "code",
   "execution_count": 59,
   "id": "4168c99b-3a35-4dd1-a31c-f4daaae1880e",
   "metadata": {},
   "outputs": [],
   "source": [
    "repo = git.Repo('.', search_parent_directories = True)\n",
    "root = repo.working_tree_dir\n",
    "\n",
    "# The sample id and the log-transformed gene expression values.\n",
    "half_data_1 = pd.read_csv(root + '\\data\\RKNGHStress.csv')\n",
    "half_data_1 = half_data_1.loc[:, half_data_1.columns.str.startswith(('Sample', 'Log'))]\n",
    "half_data_1 = half_data_1.rename(columns = {'Sample' : 'sample', 'Log16S' : 'bact', 'Logcbblr' : 'cbblr', 'Log18S' : 'fungi', 'Logphoa' : 'phoa', 'Logurec' : 'urec'})\n",
    "\n",
    "half_data_2 = pd.read_csv(root + '\\data\\RKNGHStressPCAPSR.csv')"
   ]
  },
  {
   "cell_type": "code",
   "execution_count": 60,
   "id": "1c5e2c78-1bce-4926-b772-21d941285860",
   "metadata": {},
   "outputs": [
    {
     "data": {
      "text/plain": [
       "Index(['sample', 'bact', 'cbblr', 'fungi', 'phoa', 'urec'], dtype='object')"
      ]
     },
     "execution_count": 60,
     "metadata": {},
     "output_type": "execute_result"
    }
   ],
   "source": [
    "half_data_1.columns"
   ]
  },
  {
   "cell_type": "code",
   "execution_count": 48,
   "id": "5cb365d4-0bfd-4387-92ad-be116da58940",
   "metadata": {},
   "outputs": [
    {
     "data": {
      "text/html": [
       "<div>\n",
       "<style scoped>\n",
       "    .dataframe tbody tr th:only-of-type {\n",
       "        vertical-align: middle;\n",
       "    }\n",
       "\n",
       "    .dataframe tbody tr th {\n",
       "        vertical-align: top;\n",
       "    }\n",
       "\n",
       "    .dataframe thead th {\n",
       "        text-align: right;\n",
       "    }\n",
       "</style>\n",
       "<table border=\"1\" class=\"dataframe\">\n",
       "  <thead>\n",
       "    <tr style=\"text-align: right;\">\n",
       "      <th></th>\n",
       "      <th>Sample</th>\n",
       "      <th>Log16S</th>\n",
       "      <th>Logcbblr</th>\n",
       "      <th>Log18S</th>\n",
       "      <th>Logphoa</th>\n",
       "      <th>Logurec</th>\n",
       "    </tr>\n",
       "  </thead>\n",
       "  <tbody>\n",
       "    <tr>\n",
       "      <th>0</th>\n",
       "      <td>1</td>\n",
       "      <td>10.060663</td>\n",
       "      <td>7.989052</td>\n",
       "      <td>5.839434</td>\n",
       "      <td>3.023714</td>\n",
       "      <td>5.717093</td>\n",
       "    </tr>\n",
       "    <tr>\n",
       "      <th>1</th>\n",
       "      <td>2</td>\n",
       "      <td>10.438937</td>\n",
       "      <td>8.633705</td>\n",
       "      <td>6.463197</td>\n",
       "      <td>4.555121</td>\n",
       "      <td>6.025394</td>\n",
       "    </tr>\n",
       "    <tr>\n",
       "      <th>2</th>\n",
       "      <td>3</td>\n",
       "      <td>10.214898</td>\n",
       "      <td>8.284720</td>\n",
       "      <td>5.891403</td>\n",
       "      <td>NaN</td>\n",
       "      <td>5.633758</td>\n",
       "    </tr>\n",
       "    <tr>\n",
       "      <th>3</th>\n",
       "      <td>4</td>\n",
       "      <td>10.116629</td>\n",
       "      <td>8.282452</td>\n",
       "      <td>6.822228</td>\n",
       "      <td>3.468452</td>\n",
       "      <td>5.688841</td>\n",
       "    </tr>\n",
       "    <tr>\n",
       "      <th>4</th>\n",
       "      <td>5</td>\n",
       "      <td>10.476234</td>\n",
       "      <td>8.431101</td>\n",
       "      <td>6.112417</td>\n",
       "      <td>3.082671</td>\n",
       "      <td>6.116652</td>\n",
       "    </tr>\n",
       "    <tr>\n",
       "      <th>...</th>\n",
       "      <td>...</td>\n",
       "      <td>...</td>\n",
       "      <td>...</td>\n",
       "      <td>...</td>\n",
       "      <td>...</td>\n",
       "      <td>...</td>\n",
       "    </tr>\n",
       "    <tr>\n",
       "      <th>75</th>\n",
       "      <td>76</td>\n",
       "      <td>9.532640</td>\n",
       "      <td>8.335889</td>\n",
       "      <td>6.503063</td>\n",
       "      <td>4.187976</td>\n",
       "      <td>5.723282</td>\n",
       "    </tr>\n",
       "    <tr>\n",
       "      <th>76</th>\n",
       "      <td>77</td>\n",
       "      <td>9.929145</td>\n",
       "      <td>9.280572</td>\n",
       "      <td>7.069494</td>\n",
       "      <td>4.587523</td>\n",
       "      <td>6.167327</td>\n",
       "    </tr>\n",
       "    <tr>\n",
       "      <th>77</th>\n",
       "      <td>78</td>\n",
       "      <td>10.036882</td>\n",
       "      <td>8.933283</td>\n",
       "      <td>6.960077</td>\n",
       "      <td>4.558913</td>\n",
       "      <td>6.110400</td>\n",
       "    </tr>\n",
       "    <tr>\n",
       "      <th>78</th>\n",
       "      <td>79</td>\n",
       "      <td>9.884118</td>\n",
       "      <td>9.025674</td>\n",
       "      <td>7.027090</td>\n",
       "      <td>4.190044</td>\n",
       "      <td>5.832951</td>\n",
       "    </tr>\n",
       "    <tr>\n",
       "      <th>79</th>\n",
       "      <td>80</td>\n",
       "      <td>9.908760</td>\n",
       "      <td>8.596271</td>\n",
       "      <td>6.953883</td>\n",
       "      <td>3.777106</td>\n",
       "      <td>6.140250</td>\n",
       "    </tr>\n",
       "  </tbody>\n",
       "</table>\n",
       "<p>80 rows × 6 columns</p>\n",
       "</div>"
      ],
      "text/plain": [
       "    Sample     Log16S  Logcbblr    Log18S   Logphoa   Logurec\n",
       "0        1  10.060663  7.989052  5.839434  3.023714  5.717093\n",
       "1        2  10.438937  8.633705  6.463197  4.555121  6.025394\n",
       "2        3  10.214898  8.284720  5.891403       NaN  5.633758\n",
       "3        4  10.116629  8.282452  6.822228  3.468452  5.688841\n",
       "4        5  10.476234  8.431101  6.112417  3.082671  6.116652\n",
       "..     ...        ...       ...       ...       ...       ...\n",
       "75      76   9.532640  8.335889  6.503063  4.187976  5.723282\n",
       "76      77   9.929145  9.280572  7.069494  4.587523  6.167327\n",
       "77      78  10.036882  8.933283  6.960077  4.558913  6.110400\n",
       "78      79   9.884118  9.025674  7.027090  4.190044  5.832951\n",
       "79      80   9.908760  8.596271  6.953883  3.777106  6.140250\n",
       "\n",
       "[80 rows x 6 columns]"
      ]
     },
     "execution_count": 48,
     "metadata": {},
     "output_type": "execute_result"
    }
   ],
   "source": [
    "# half_data_1[[col for col in half_data_1 if col.startswith('Log')]]\n",
    "half_data_1.loc[:, half_data_1.columns.str.startswith(('Sample', 'Log'))]"
   ]
  }
 ],
 "metadata": {
  "kernelspec": {
   "display_name": "Python 3 (ipykernel)",
   "language": "python",
   "name": "python3"
  },
  "language_info": {
   "codemirror_mode": {
    "name": "ipython",
    "version": 3
   },
   "file_extension": ".py",
   "mimetype": "text/x-python",
   "name": "python",
   "nbconvert_exporter": "python",
   "pygments_lexer": "ipython3",
   "version": "3.10.9"
  }
 },
 "nbformat": 4,
 "nbformat_minor": 5
}
